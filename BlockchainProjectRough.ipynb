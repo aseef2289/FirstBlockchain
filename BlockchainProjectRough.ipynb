{
  "nbformat": 4,
  "nbformat_minor": 0,
  "metadata": {
    "colab": {
      "provenance": [],
      "authorship_tag": "ABX9TyNvzTE1You7YchZZ+45CK+M",
      "include_colab_link": true
    },
    "kernelspec": {
      "name": "python3",
      "display_name": "Python 3"
    },
    "language_info": {
      "name": "python"
    }
  },
  "cells": [
    {
      "cell_type": "markdown",
      "metadata": {
        "id": "view-in-github",
        "colab_type": "text"
      },
      "source": [
        "<a href=\"https://colab.research.google.com/github/aseef2289/FirstBlockchain/blob/main/BlockchainProjectRough.ipynb\" target=\"_parent\"><img src=\"https://colab.research.google.com/assets/colab-badge.svg\" alt=\"Open In Colab\"/></a>"
      ]
    },
    {
      "cell_type": "code",
      "execution_count": 23,
      "metadata": {
        "id": "Y1ZlT80lCNPk"
      },
      "outputs": [],
      "source": [
        "#This is a blockchain simulation program"
      ]
    },
    {
      "cell_type": "code",
      "source": [
        "#Import library\n",
        "import hashlib"
      ],
      "metadata": {
        "id": "5ol4ENw7CXnO"
      },
      "execution_count": 21,
      "outputs": []
    },
    {
      "cell_type": "code",
      "source": [
        "#Create Block class\n",
        "class Block:\n",
        "  #Defining variables within Block Class\n",
        "  def __init__(self, data, prev_hash):\n",
        "    #Setting values and names to the variables\n",
        "    self.data = data\n",
        "    self.prev_hash = prev_hash\n",
        "    #Setting value to a new method to calculate hash of block\n",
        "    self.hash = self.calc_hash()\n",
        "\n",
        "  #Create a hash calculation method using SHA-256\n",
        "  def calc_hash(self):\n",
        "    #Converts data into a string of 256 bits\n",
        "    sha = hashlib.sha256()\n",
        "    #Encode data into 8 bits\n",
        "    sha.update(self.data.encode('utf-8'))\n",
        "    return sha.hexdigest()\n"
      ],
      "metadata": {
        "id": "d4jcwkVXCeR2"
      },
      "execution_count": 34,
      "outputs": []
    },
    {
      "cell_type": "code",
      "source": [
        "#Create the Blockchain class\n",
        "class Blockchain:\n",
        "  #Create a constructor for the Blockchain class\n",
        "  def __init__(self):\n",
        "    self.chain = [self.create_genesis_block()]\n",
        "\n",
        "  #Method to create genesis block\n",
        "  def create_genesis_block(self):\n",
        "    #Imputs data as genesis block and 0 previous hashes\n",
        "    return Block(\"Genesis Block\", \"0\")\n",
        "\n",
        "  #Create a method that creates a new block and adds it to the Blockchain (List)\n",
        "  def add_block(self, data):\n",
        "    #Holds data of previous block\n",
        "    prev_block = self.chain[-1]\n",
        "    #New block consisting of data and hashrate of previous block\n",
        "    new_block = Block(data, prev_block.hash)\n",
        "    #Adds new block to the Blockchain\n",
        "    self.chain.append(new_block)\n"
      ],
      "metadata": {
        "id": "z_p_ZNZHCjue"
      },
      "execution_count": 35,
      "outputs": []
    },
    {
      "cell_type": "code",
      "source": [
        "#Test the Blockchain\n",
        "blockchain = Blockchain()"
      ],
      "metadata": {
        "id": "-hTSzUojFs0c"
      },
      "execution_count": 51,
      "outputs": []
    },
    {
      "cell_type": "code",
      "source": [
        "#Add blocks to the blockhain\n",
        "blockchain.add_block('First block')\n",
        "blockchain.add_block('Second block')\n",
        "blockchain.add_block('Third block')"
      ],
      "metadata": {
        "id": "-wSPKkvCI51X"
      },
      "execution_count": 39,
      "outputs": []
    },
    {
      "cell_type": "code",
      "source": [
        "#Print and show the blockchian\n",
        "print('Blockchain: ')\n",
        "for block in blockchain.chain:\n",
        "  print('Data:', block.data)\n",
        "  print('Previous hash:', block.prev_hash)\n",
        "  print('Hash:', block.hash)\n",
        "  print()"
      ],
      "metadata": {
        "colab": {
          "base_uri": "https://localhost:8080/"
        },
        "id": "cKVv3Rc6JFYf",
        "outputId": "c64e58bf-c36f-46e4-e7f3-35c68b3ac15f"
      },
      "execution_count": 50,
      "outputs": [
        {
          "output_type": "stream",
          "name": "stdout",
          "text": [
            "Blockchain: \n",
            "Data: Genesis Block\n",
            "Previous hash: 0\n",
            "Hash: 89eb0ac031a63d2421cd05a2fbe41f3ea35f5c3712ca839cbf6b85c4ee07b7a3\n",
            "\n",
            "Data: First block\n",
            "Previous hash: 89eb0ac031a63d2421cd05a2fbe41f3ea35f5c3712ca839cbf6b85c4ee07b7a3\n",
            "Hash: 876fb923a443ba6afe5fb32dd79961e85be2b582cf74c233842b630ae16fe4d9\n",
            "\n",
            "Data: Second block\n",
            "Previous hash: 876fb923a443ba6afe5fb32dd79961e85be2b582cf74c233842b630ae16fe4d9\n",
            "Hash: 8e2fb9e02898feb024dff05ee0b27fd5ea0a448e252d975e6ec5f7b0a252a6cd\n",
            "\n",
            "Data: Third block\n",
            "Previous hash: 8e2fb9e02898feb024dff05ee0b27fd5ea0a448e252d975e6ec5f7b0a252a6cd\n",
            "Hash: 06e369fbfbe5362a8115a5c6f3e2d3ec7292cc4272052dcc3280898e3206208d\n",
            "\n",
            "Data: First block\n",
            "Previous hash: 06e369fbfbe5362a8115a5c6f3e2d3ec7292cc4272052dcc3280898e3206208d\n",
            "Hash: 876fb923a443ba6afe5fb32dd79961e85be2b582cf74c233842b630ae16fe4d9\n",
            "\n",
            "Data: Second block\n",
            "Previous hash: 876fb923a443ba6afe5fb32dd79961e85be2b582cf74c233842b630ae16fe4d9\n",
            "Hash: 8e2fb9e02898feb024dff05ee0b27fd5ea0a448e252d975e6ec5f7b0a252a6cd\n",
            "\n",
            "Data: Third block\n",
            "Previous hash: 8e2fb9e02898feb024dff05ee0b27fd5ea0a448e252d975e6ec5f7b0a252a6cd\n",
            "Hash: 06e369fbfbe5362a8115a5c6f3e2d3ec7292cc4272052dcc3280898e3206208d\n",
            "\n"
          ]
        }
      ]
    },
    {
      "cell_type": "code",
      "source": [],
      "metadata": {
        "id": "8iZxjGgfJasy"
      },
      "execution_count": null,
      "outputs": []
    }
  ]
}